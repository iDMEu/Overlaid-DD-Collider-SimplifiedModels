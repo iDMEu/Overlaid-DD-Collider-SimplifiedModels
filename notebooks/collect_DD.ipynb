{
 "cells": [
  {
   "cell_type": "markdown",
   "id": "74216602-61e3-41b7-affc-7195113167aa",
   "metadata": {},
   "source": []
  },
  {
   "cell_type": "code",
   "execution_count": null,
   "id": "6e8eb5c0-1e4f-4ba0-8960-4a74275e12c8",
   "metadata": {},
   "outputs": [],
   "source": [
    "from xml.dom import minidom\n",
    "import ast\n",
    "import numpy as np\n",
    "import matplotlib.pyplot as plt\n",
    "import os\n",
    "path = '../inputs/directdetection'"
   ]
  },
  {
   "cell_type": "markdown",
   "id": "902605a7-1bbd-4ad5-9106-433c1c34a49b",
   "metadata": {},
   "source": []
  },
  {
   "cell_type": "code",
   "execution_count": null,
   "id": "7c8d90f7-2f3e-47bd-9521-cabc2b85e171",
   "metadata": {},
   "outputs": [],
   "source": [
    "def parse_lims(infile) :\n",
    "    openfile = minidom.parse(infile)\n",
    "    limits = openfile.getElementsByTagName('limit')[0]\n",
    "    vals = limits.getElementsByTagName('data-values')[0].firstChild.data\n",
    "    vals_list = vals.strip(\"{[\").strip(\"]}\")\n",
    "    vals_groups = vals_list.split(\";\")\n",
    "    xvals = []\n",
    "    yvals = []\n",
    "    for vals_group in vals_groups :\n",
    "        tokens = vals_group.split()\n",
    "        xvals.append(eval(tokens[0]))\n",
    "        yvals.append(eval(tokens[1]))\n",
    "    return xvals, yvals"
   ]
  },
  {
   "cell_type": "markdown",
   "id": "8f345895-77a2-416c-91b9-51090fc975a6",
   "metadata": {},
   "source": []
  },
  {
   "cell_type": "code",
   "execution_count": null,
   "id": "aa7c38f3-5104-485f-8a3b-41b17cbc0b92",
   "metadata": {},
   "outputs": [],
   "source": [
    "def parse_lzlims(infile) :\n",
    "    xvals = []\n",
    "    yvals = []\n",
    "    with open(infile) as inf :\n",
    "        lines = inf.readlines()\n",
    "        for line in lines[1:] :\n",
    "            tokens = line.split()\n",
    "            xvals.append(eval(tokens[0]))\n",
    "            yvals.append(eval(tokens[1]))\n",
    "    return xvals, yvals"
   ]
  },
  {
   "cell_type": "markdown",
   "id": "e837989f-0f1e-4842-874c-fd20b2a21f61",
   "metadata": {},
   "source": []
  },
  {
   "cell_type": "code",
   "execution_count": null,
   "id": "ee3dd555-0126-4e68-934d-354b324b2e87",
   "metadata": {},
   "outputs": [],
   "source": [
    "# All we need is PICO-60\n",
    "def get_sd_proton() :\n",
    "    # Read in and format\n",
    "    file_pico = path+'/SD/PICO60_SDp_1902.04031v2.xml'\n",
    "    pico_x, pico_y = parse_lims(file_pico)\n",
    "    file_lz = path+'/SD/Fig8_SpinDependentprotonLimitandSensitivity.txt'\n",
    "    lz_x, lz_y = parse_lzlims(file_lz)\n",
    "    return {\"PICO-60\" : [np.array(pico_x), np.array(pico_y)]} #,\n",
    "            #\"LZ\" : [np.array(lz_x), np.array(lz_y)]} # too weak"
   ]
  },
  {
   "cell_type": "markdown",
   "id": "7db7416d-718b-40c5-895d-0b84611379f3",
   "metadata": {},
   "source": []
  },
  {
   "cell_type": "code",
   "execution_count": null,
   "id": "b1904f4c-b044-4310-a810-8a357d0c3d37",
   "metadata": {},
   "outputs": [],
   "source": [
    "# Want LUX and XENON1T\n",
    "def get_sd_neutron() :\n",
    "\n",
    "    # LUX\n",
    "    file_lux = path+'/SD/LUX_SDn_1705.03380.xml'\n",
    "    lux_x, lux_y = parse_lims(file_lux)\n",
    "    # Lux limit is in pb not cm2, so need to convert.\n",
    "    lux_y = np.array(lux_y)/1.0e36\n",
    "\n",
    "    # XENON1T\n",
    "    file_x1T = path+'/SD/XENON1t_Neutron.xml'\n",
    "    x1t_x, x1t_y = parse_lims(file_x1T)\n",
    "\n",
    "    # LZ\n",
    "    file_lz = path+'/SD/Fig7_SpinDependentneutronLimitandSensitivity.txt'\n",
    "    lz_x, lz_y = parse_lzlims(file_lz)\n",
    "\n",
    "    return {'LUX' : [np.array(lux_x), lux_y],\n",
    "            'XENON1T' : [np.array(x1t_x), np.array(x1t_y)],\n",
    "            \"LZ\" : [np.array(lz_x), np.array(lz_y)]}"
   ]
  },
  {
   "cell_type": "markdown",
   "id": "8135b790-e3b7-4190-b45a-e66b4bcb64a5",
   "metadata": {},
   "source": []
  },
  {
   "cell_type": "code",
   "execution_count": null,
   "id": "55def98d-dcdc-459a-81bc-d131ffe6dbc0",
   "metadata": {},
   "outputs": [],
   "source": [
    "# Here, we want 3:\n",
    "# XENON-1T (2018), XENON-1T low mass,\n",
    "# DarkSide-50\n",
    "def get_spin_independent() :\n",
    "\n",
    "    # XENON1T\n",
    "    file_x1T = path+'/SI/XENON1T_2018.xml'\n",
    "    x1t_x, x1t_y = parse_lims(file_x1T)\n",
    "    \n",
    "    # XENON low mass\n",
    "    file_x1T_low = path+'/SI/XENON1T_Migdal_LowMass_1907.12771.xml'\n",
    "    x1t_low_x, x1t_low_y = parse_lims(file_x1T_low)\n",
    "    \n",
    "    # DarkSide\n",
    "    file_darkside = path+'/SI/darkside_1023.xml'\n",
    "    darkside_x, darkside_y = parse_lims(file_darkside)\n",
    "\n",
    "    # LZ\n",
    "    file_lz = path+'/SI/Fig5_SpinIndependentLimitandSensitivity.txt'\n",
    "    lz_x, lz_y = parse_lzlims(file_lz)    \n",
    "    \n",
    "    return {'XENON1T' : [np.array(x1t_x),np.array(x1t_y)],\n",
    "            'XENON1T MIGD' : [np.array(x1t_low_x),np.array(x1t_low_y)],\n",
    "            'DarkSide-50' : [np.array(darkside_x),np.array(darkside_y)],\n",
    "            \"LZ\" : [np.array(lz_x), np.array(lz_y)]}"
   ]
  },
  {
   "cell_type": "markdown",
   "id": "363a404d-f5af-462c-9e5c-9243254f01e6",
   "metadata": {},
   "source": []
  },
  {
   "cell_type": "code",
   "execution_count": null,
   "id": "203cd5bc-597e-4490-b84d-b902d431dc6f",
   "metadata": {},
   "outputs": [],
   "source": [
    "# validate\n",
    "sd_proton = get_sd_proton()\n",
    "#print(sd_proton)\n",
    "sd_neutron = get_sd_neutron()\n",
    "#print(sd_neutron)\n",
    "si = get_spin_independent()\n",
    "#print(si)"
   ]
  },
  {
   "cell_type": "markdown",
   "id": "89c0a7e1-0ff9-435d-bba4-d752ca7004f6",
   "metadata": {},
   "source": []
  },
  {
   "cell_type": "code",
   "execution_count": null,
   "id": "979ffb8e-4363-4069-966a-3f771620afb2",
   "metadata": {},
   "outputs": [],
   "source": [
    "fig,ax=plt.subplots(1,1)\n",
    "plt.xlim(1, 2000)\n",
    "plt.ylim(1e-46, 1e-37)\n",
    "plt.xscale('log')\n",
    "plt.yscale('log')\n",
    "plt.plot(sd_proton['PICO-60'][0],sd_proton['PICO-60'][1])\n",
    "plt.plot(sd_neutron['LUX'][0],sd_neutron['LUX'][1])\n",
    "plt.plot(sd_neutron['XENON1T'][0],sd_neutron['XENON1T'][1])\n",
    "plt.savefig('spin-dependent.pdf',bbox_inches='tight')"
   ]
  },
  {
   "cell_type": "markdown",
   "id": "0d715272-847d-43aa-81f5-04d03dfe173e",
   "metadata": {},
   "source": []
  },
  {
   "cell_type": "code",
   "execution_count": null,
   "id": "7e78d307-6104-497e-913b-f1c91ccce2b8",
   "metadata": {},
   "outputs": [],
   "source": [
    "plt.clf()\n",
    "plt.xlim(1, 2000)\n",
    "plt.ylim(1e-48, 1e-37)\n",
    "plt.xscale('log')\n",
    "plt.yscale('log')\n",
    "plt.plot(si['XENON1T'][0],si['XENON1T'][1])\n",
    "plt.plot(si['XENON1T MIGD'][0],si['XENON1T MIGD'][1])\n",
    "plt.plot(si['DarkSide-50'][0],si['DarkSide-50'][1])\n",
    "plt.savefig('spin-independent.pdf',bbox_inches='tight')"
   ]
  }
 ],
 "metadata": {
  "kernelspec": {
   "display_name": "Python 3 (ipykernel)",
   "language": "python",
   "name": "python3"
  },
  "language_info": {
   "codemirror_mode": {
    "name": "ipython",
    "version": 3
   },
   "file_extension": ".py",
   "mimetype": "text/x-python",
   "name": "python",
   "nbconvert_exporter": "python",
   "pygments_lexer": "ipython3",
   "version": "3.13.3"
  }
 },
 "nbformat": 4,
 "nbformat_minor": 5
}
